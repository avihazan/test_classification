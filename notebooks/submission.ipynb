{
 "cells": [
  {
   "cell_type": "code",
   "execution_count": 1,
   "metadata": {},
   "outputs": [],
   "source": [
    "import sys\n",
    "from functools import partial\n",
    "from zipfile import ZipFile\n",
    "import pandas as pd\n",
    "sys.path.append('../src')\n",
    "%matplotlib inline"
   ]
  },
  {
   "cell_type": "markdown",
   "metadata": {},
   "source": [
    "# Your contact details"
   ]
  },
  {
   "cell_type": "code",
   "execution_count": 2,
   "metadata": {},
   "outputs": [],
   "source": [
    "# If you're having problem importing this file, copy and paste the contents of \"uatt.py\" in this cell instead\n",
    "# of the import statement\n",
    "from uatt import submit\n",
    "my_submit = partial(submit, \"Uri Goren\", \"Company\", \"uri@uatt.org.il\", \"050\")"
   ]
  },
  {
   "cell_type": "markdown",
   "metadata": {},
   "source": [
    "# Read data"
   ]
  },
  {
   "cell_type": "code",
   "execution_count": 3,
   "metadata": {},
   "outputs": [
    {
     "data": {
      "text/html": [
       "<div>\n",
       "<style scoped>\n",
       "    .dataframe tbody tr th:only-of-type {\n",
       "        vertical-align: middle;\n",
       "    }\n",
       "\n",
       "    .dataframe tbody tr th {\n",
       "        vertical-align: top;\n",
       "    }\n",
       "\n",
       "    .dataframe thead th {\n",
       "        text-align: right;\n",
       "    }\n",
       "</style>\n",
       "<table border=\"1\" class=\"dataframe\">\n",
       "  <thead>\n",
       "    <tr style=\"text-align: right;\">\n",
       "      <th></th>\n",
       "      <th>id</th>\n",
       "      <th>label</th>\n",
       "      <th>content</th>\n",
       "    </tr>\n",
       "  </thead>\n",
       "  <tbody>\n",
       "    <tr>\n",
       "      <th>36</th>\n",
       "      <td>00370</td>\n",
       "      <td>SPA</td>\n",
       "      <td>Exhibit 99.1\\n\\n\\n\\n1\\. Purchase and Sale. By ...</td>\n",
       "    </tr>\n",
       "    <tr>\n",
       "      <th>2793</th>\n",
       "      <td>21770</td>\n",
       "      <td>rsu</td>\n",
       "      <td>Exhibit 10.6 \\n\\nPEPCO HOLDINGS, INC. \\n\\n\\n\\n...</td>\n",
       "    </tr>\n",
       "    <tr>\n",
       "      <th>2953</th>\n",
       "      <td>23370</td>\n",
       "      <td>rsu</td>\n",
       "      <td>Exhibit 10.22 \\n\\n\\n\\nTHIS AGREEMENT, executed...</td>\n",
       "    </tr>\n",
       "    <tr>\n",
       "      <th>1222</th>\n",
       "      <td>07450</td>\n",
       "      <td>employment</td>\n",
       "      <td>Exhibit 10.7\\n\\n\\n\\nTHIS EMPLOYMENT AGREEMENT ...</td>\n",
       "    </tr>\n",
       "    <tr>\n",
       "      <th>2256</th>\n",
       "      <td>38540</td>\n",
       "      <td>rra</td>\n",
       "      <td>Exhibit 10.22\\n\\n\\n\\nREGISTRATION RIGHTS AGREE...</td>\n",
       "    </tr>\n",
       "    <tr>\n",
       "      <th>1718</th>\n",
       "      <td>12410</td>\n",
       "      <td>employment</td>\n",
       "      <td>Exhibit 10.2 \\n\\n\\n\\nTHIS EMPLOYMENT AGREEMENT...</td>\n",
       "    </tr>\n",
       "    <tr>\n",
       "      <th>3464</th>\n",
       "      <td>28480</td>\n",
       "      <td>rsu</td>\n",
       "      <td>Exhibit 10.46 \\n\\nBurlington Holdings, Inc.\\n\\...</td>\n",
       "    </tr>\n",
       "    <tr>\n",
       "      <th>1178</th>\n",
       "      <td>07010</td>\n",
       "      <td>employment</td>\n",
       "      <td>EXHIBIT 10.15\\n\\n  \\n\\n\\n\\n\\nTHIS EMPLOYMENT A...</td>\n",
       "    </tr>\n",
       "    <tr>\n",
       "      <th>4000</th>\n",
       "      <td>33840</td>\n",
       "      <td>rsu</td>\n",
       "      <td>##### \\n\\nEXHIBIT 10.2\\n\\nANIMAS CORPORATION\\n...</td>\n",
       "    </tr>\n",
       "    <tr>\n",
       "      <th>2466</th>\n",
       "      <td>18500</td>\n",
       "      <td>rsu</td>\n",
       "      <td>Exhibit 10.5\\n\\nTIER REIT, INC.\\n\\n\\n\\nName of...</td>\n",
       "    </tr>\n",
       "  </tbody>\n",
       "</table>\n",
       "</div>"
      ],
      "text/plain": [
       "         id       label                                            content\n",
       "36    00370         SPA  Exhibit 99.1\\n\\n\\n\\n1\\. Purchase and Sale. By ...\n",
       "2793  21770         rsu  Exhibit 10.6 \\n\\nPEPCO HOLDINGS, INC. \\n\\n\\n\\n...\n",
       "2953  23370         rsu  Exhibit 10.22 \\n\\n\\n\\nTHIS AGREEMENT, executed...\n",
       "1222  07450  employment  Exhibit 10.7\\n\\n\\n\\nTHIS EMPLOYMENT AGREEMENT ...\n",
       "2256  38540         rra  Exhibit 10.22\\n\\n\\n\\nREGISTRATION RIGHTS AGREE...\n",
       "1718  12410  employment  Exhibit 10.2 \\n\\n\\n\\nTHIS EMPLOYMENT AGREEMENT...\n",
       "3464  28480         rsu  Exhibit 10.46 \\n\\nBurlington Holdings, Inc.\\n\\...\n",
       "1178  07010  employment  EXHIBIT 10.15\\n\\n  \\n\\n\\n\\n\\nTHIS EMPLOYMENT A...\n",
       "4000  33840         rsu  ##### \\n\\nEXHIBIT 10.2\\n\\nANIMAS CORPORATION\\n...\n",
       "2466  18500         rsu  Exhibit 10.5\\n\\nTIER REIT, INC.\\n\\n\\n\\nName of..."
      ]
     },
     "execution_count": 3,
     "metadata": {},
     "output_type": "execute_result"
    }
   ],
   "source": [
    "data = []\n",
    "with ZipFile(\"../data/data.zip\") as z:\n",
    "    for fname in z.namelist():\n",
    "        if not fname.endswith('.txt') or not fname.startswith('data'):\n",
    "            continue\n",
    "        content = z.read(fname).decode('utf8')\n",
    "        label, idx = fname[5:-4].split('-', 1)\n",
    "        data.append((idx,label,content,))\n",
    "df_train = pd.DataFrame(data, columns=(\"id\", \"label\", \"content\"))\n",
    "df_train.sample(10)"
   ]
  },
  {
   "cell_type": "code",
   "execution_count": 4,
   "metadata": {},
   "outputs": [
    {
     "data": {
      "text/html": [
       "<div>\n",
       "<style scoped>\n",
       "    .dataframe tbody tr th:only-of-type {\n",
       "        vertical-align: middle;\n",
       "    }\n",
       "\n",
       "    .dataframe tbody tr th {\n",
       "        vertical-align: top;\n",
       "    }\n",
       "\n",
       "    .dataframe thead th {\n",
       "        text-align: right;\n",
       "    }\n",
       "</style>\n",
       "<table border=\"1\" class=\"dataframe\">\n",
       "  <thead>\n",
       "    <tr style=\"text-align: right;\">\n",
       "      <th></th>\n",
       "      <th>id</th>\n",
       "      <th>content</th>\n",
       "    </tr>\n",
       "  </thead>\n",
       "  <tbody>\n",
       "    <tr>\n",
       "      <th>114</th>\n",
       "      <td>ebisd</td>\n",
       "      <td>Exhibit 10.4\\n\\n\\n\\nAGREEMENT effective Januar...</td>\n",
       "    </tr>\n",
       "    <tr>\n",
       "      <th>407</th>\n",
       "      <td>mycsp</td>\n",
       "      <td>Exhibit 10.22\\n\\nALLIANCE IMAGING, INC.\\n\\n\\n\\...</td>\n",
       "    </tr>\n",
       "    <tr>\n",
       "      <th>222</th>\n",
       "      <td>hbgwd</td>\n",
       "      <td>Exhibit 10.7\\n\\nRETAIL OPPORTUNITY INVESTMENTS...</td>\n",
       "    </tr>\n",
       "    <tr>\n",
       "      <th>177</th>\n",
       "      <td>furdn</td>\n",
       "      <td>Exhibit 10.1 \\n\\n\\n\\nTHIS CREDIT AGREEMENT (as...</td>\n",
       "    </tr>\n",
       "    <tr>\n",
       "      <th>198</th>\n",
       "      <td>gncov</td>\n",
       "      <td>Exhibit 10.4 \\n\\nALERE INC.  \\n2010 STOCK OPTI...</td>\n",
       "    </tr>\n",
       "    <tr>\n",
       "      <th>126</th>\n",
       "      <td>eosaj</td>\n",
       "      <td>EXHIBIT 10.1  \\n\\n\\nCosi, Inc.\\n\\n\\n\\nTHIS EMP...</td>\n",
       "    </tr>\n",
       "    <tr>\n",
       "      <th>586</th>\n",
       "      <td>sxbvu</td>\n",
       "      <td>##### \\n\\nExhibit 10.39\\n\\n[CEO]\\n\\nCOLOR KINE...</td>\n",
       "    </tr>\n",
       "    <tr>\n",
       "      <th>19</th>\n",
       "      <td>aroji</td>\n",
       "      <td>Exhibit 10.2\\n\\n  \\n\\n\\nBAKER HUGHES INCORPORA...</td>\n",
       "    </tr>\n",
       "    <tr>\n",
       "      <th>799</th>\n",
       "      <td>zldcp</td>\n",
       "      <td>\\n\\n\\nExhibit 3.1\\n\\n\\n\\nOF\\n\\nEQUITABLE FIN...</td>\n",
       "    </tr>\n",
       "    <tr>\n",
       "      <th>665</th>\n",
       "      <td>vmkld</td>\n",
       "      <td>Exhibit 3.1 \\n\\n\\n\\nof Bronco Drilling Company...</td>\n",
       "    </tr>\n",
       "  </tbody>\n",
       "</table>\n",
       "</div>"
      ],
      "text/plain": [
       "        id                                            content\n",
       "114  ebisd  Exhibit 10.4\\n\\n\\n\\nAGREEMENT effective Januar...\n",
       "407  mycsp  Exhibit 10.22\\n\\nALLIANCE IMAGING, INC.\\n\\n\\n\\...\n",
       "222  hbgwd  Exhibit 10.7\\n\\nRETAIL OPPORTUNITY INVESTMENTS...\n",
       "177  furdn  Exhibit 10.1 \\n\\n\\n\\nTHIS CREDIT AGREEMENT (as...\n",
       "198  gncov  Exhibit 10.4 \\n\\nALERE INC.  \\n2010 STOCK OPTI...\n",
       "126  eosaj  EXHIBIT 10.1  \\n\\n\\nCosi, Inc.\\n\\n\\n\\nTHIS EMP...\n",
       "586  sxbvu  ##### \\n\\nExhibit 10.39\\n\\n[CEO]\\n\\nCOLOR KINE...\n",
       "19   aroji  Exhibit 10.2\\n\\n  \\n\\n\\nBAKER HUGHES INCORPORA...\n",
       "799  zldcp    \\n\\n\\nExhibit 3.1\\n\\n\\n\\nOF\\n\\nEQUITABLE FIN...\n",
       "665  vmkld  Exhibit 3.1 \\n\\n\\n\\nof Bronco Drilling Company..."
      ]
     },
     "execution_count": 4,
     "metadata": {},
     "output_type": "execute_result"
    }
   ],
   "source": [
    "data = []\n",
    "with ZipFile(\"../data/test_data.zip\") as z:\n",
    "    for fname in z.namelist():\n",
    "        content = z.read(fname).decode('utf8')\n",
    "        if not fname.endswith('.txt') or not fname.startswith('test'):\n",
    "            continue\n",
    "        idx = fname[5:-4]\n",
    "        data.append((idx,content,))\n",
    "df_test = pd.DataFrame(data, columns=(\"id\", \"content\"))\n",
    "df_test.sample(10)"
   ]
  },
  {
   "cell_type": "markdown",
   "metadata": {},
   "source": [
    "# Plot distribution of labels"
   ]
  },
  {
   "cell_type": "code",
   "execution_count": 5,
   "metadata": {},
   "outputs": [
    {
     "data": {
      "text/plain": [
       "<AxesSubplot:>"
      ]
     },
     "execution_count": 5,
     "metadata": {},
     "output_type": "execute_result"
    },
    {
     "data": {
      "image/png": "[encoded data removed]",
      "text/plain": [
       "<Figure size 432x288 with 1 Axes>"
      ]
     },
     "metadata": {
      "needs_background": "light"
     },
     "output_type": "display_data"
    }
   ],
   "source": [
    "df_train[\"label\"].hist()"
   ]
  },
  {
   "cell_type": "markdown",
   "metadata": {},
   "source": [
    "# Submit\n",
    "## Sample submission 1: \"All RSU\""
   ]
  },
  {
   "cell_type": "code",
   "execution_count": 6,
   "metadata": {},
   "outputs": [
    {
     "data": {
      "text/plain": [
       "0.46958637469586"
      ]
     },
     "execution_count": 6,
     "metadata": {},
     "output_type": "execute_result"
    }
   ],
   "source": [
    "# for all documents\n",
    "df_test[\"label\"] = \"rsu\"\n",
    "submission = dict(df_test[[\"id\",\"label\"]].values)\n",
    "#submission name must be unique\n",
    "submission_name = \"uri_most_likely\"\n",
    "my_submit(submission_name, submission)\n"
   ]
  },
  {
   "cell_type": "markdown",
   "metadata": {},
   "source": [
    "## Sample submission 2: Submission by string search\n"
   ]
  },
  {
   "cell_type": "code",
   "execution_count": 7,
   "metadata": {},
   "outputs": [
    {
     "data": {
      "text/plain": [
       "0.65085158150852"
      ]
     },
     "execution_count": 7,
     "metadata": {},
     "output_type": "execute_result"
    }
   ],
   "source": [
    "df_test[\"label\"] = \"rsu\"\n",
    "df_test.loc[df_test[\"content\"].str.contains(\"EMPLOYMENT\"),\"label\"] = 'employment'\n",
    "df_test.loc[df_test[\"content\"].str.contains(\"CREDIT\"),\"label\"] = 'credit'\n",
    "df_test.loc[df_test[\"content\"].str.contains(\"BYLAWS\"),\"label\"] = 'bylaws'\n",
    "df_test.loc[df_test[\"content\"].str.contains(\"REGISTRAR\"),\"label\"] = 'rra'\n",
    "submission = dict(df_test[[\"id\",\"label\"]].values)\n",
    "\n",
    "submission_name = \"uri_string_search\"\n",
    "my_submit(submission_name, submission)"
   ]
  },
  {
   "cell_type": "markdown",
   "metadata": {},
   "source": [
    "# See how you rank\n",
    "Leaderboard is available at:\n",
    "https://goren.ml/uattcontract\n",
    "\n",
    "Accuracy of **90%** and above is required to pass the test\n",
    "\n",
    "## Leaderboard not refreshing ?\n",
    "try adding a random suffix to it, like this one:"
   ]
  },
  {
   "cell_type": "code",
   "execution_count": 8,
   "metadata": {},
   "outputs": [
    {
     "data": {
      "text/html": [
       "<a href=\"https://goren.ml/uattcontract/?BqxQRJU=yKkAdce\" target=\"_blank\">Go to Leaderboard</a>"
      ],
      "text/plain": [
       "<IPython.core.display.HTML object>"
      ]
     },
     "execution_count": 8,
     "metadata": {},
     "output_type": "execute_result"
    }
   ],
   "source": [
    "import random, string\n",
    "from IPython.display import HTML\n",
    "rand_str = lambda: \"\".join(random.sample(string.ascii_letters,7))\n",
    "HTML('<a href=\"https://goren.ml/uattcontract/?{k}={v}\" target=\"_blank\">Go to Leaderboard</a>'.format(k=rand_str(),v=rand_str()))"
   ]
  },
  {
   "cell_type": "code",
   "execution_count": null,
   "metadata": {},
   "outputs": [],
   "source": []
  }
 ],
 "metadata": {
  "kernelspec": {
   "display_name": "Python 3",
   "language": "python",
   "name": "python3"
  },
  "language_info": {
   "codemirror_mode": {
    "name": "ipython",
    "version": 3
   },
   "file_extension": ".py",
   "mimetype": "text/x-python",
   "name": "python",
   "nbconvert_exporter": "python",
   "pygments_lexer": "ipython3",
   "version": "3.8.3"
  }
 },
 "nbformat": 4,
 "nbformat_minor": 4
}
