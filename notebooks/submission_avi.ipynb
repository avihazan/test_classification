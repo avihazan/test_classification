{
 "cells": [
  {
   "cell_type": "code",
   "execution_count": 193,
   "metadata": {},
   "outputs": [
    {
     "name": "stderr",
     "output_type": "stream",
     "text": [
      "[nltk_data] Downloading package punkt to\n",
      "[nltk_data]     C:\\Users\\Avi\\AppData\\Roaming\\nltk_data...\n",
      "[nltk_data]   Package punkt is already up-to-date!\n",
      "[nltk_data] Downloading package stopwords to\n",
      "[nltk_data]     C:\\Users\\Avi\\AppData\\Roaming\\nltk_data...\n",
      "[nltk_data]   Package stopwords is already up-to-date!\n"
     ]
    }
   ],
   "source": [
    "import sys\n",
    "from functools import partial\n",
    "from zipfile import ZipFile\n",
    "import pandas as pd\n",
    "import numpy as np\n",
    "import re\n",
    "sys.path.append('../src')\n",
    "%matplotlib inline\n",
    "\n",
    "import nltk\n",
    "nltk.download('punkt')\n",
    "nltk.download('stopwords')\n",
    "\n",
    "from nltk.tokenize import sent_tokenize\n",
    "from nltk.tokenize import word_tokenize\n",
    "from nltk.probability import FreqDist\n",
    "from nltk.corpus import stopwords\n",
    "\n",
    "from sklearn.feature_extraction.text import CountVectorizer\n",
    "from collections import Counter\n"
   ]
  },
  {
   "cell_type": "markdown",
   "metadata": {},
   "source": [
    "# Your contact details"
   ]
  },
  {
   "cell_type": "code",
   "execution_count": 3,
   "metadata": {},
   "outputs": [],
   "source": [
    "# If you're having problem importing this file, copy and paste the contents of \"uatt.py\" in this cell instead\n",
    "# of the import statement\n",
    "from uatt import submit\n",
    "my_submit = partial(submit, \"Avi Hazan\", \"IAI\", \"avi@coca-int.com\", \"0542470502\")"
   ]
  },
  {
   "cell_type": "markdown",
   "metadata": {},
   "source": [
    "# Read data"
   ]
  },
  {
   "cell_type": "code",
   "execution_count": 116,
   "metadata": {},
   "outputs": [],
   "source": [
    "import re\n",
    "\n",
    "def clean_content(txt):\n",
    "    txt = txt.lower()\n",
    "    txt = re.sub('\\W+',' ', str(txt) )\n",
    "    txt = ''.join(i for i in txt if not i.isdigit())\n",
    "    txt = txt.replace('exhibit',\"\")\n",
    "    return txt\n",
    "\n",
    "def find_uinque_words(txt):\n",
    "    words = txt.split()\n",
    "    unique = []\n",
    "    for word in words:\n",
    "        if word not in unique:\n",
    "            unique.append(word)\n",
    "            \n",
    "    return unique \n",
    " \n",
    "def find_common_words(txt):\n",
    "    stop_words=set(stopwords.words(\"english\"))\n",
    "    tokenized_word=word_tokenize(txt)\n",
    "\n",
    "    filtered_sent=[]\n",
    "    for w in tokenized_word:\n",
    "        if w not in stop_words:\n",
    "            filtered_sent.append(w)\n",
    "\n",
    "    fdist = FreqDist(filtered_sent)\n",
    "    fdist = fdist.most_common(20)\n",
    "    \n",
    "    common=[]\n",
    "    for item in fdist:\n",
    "        common.append(item[0])\n",
    "    \n",
    "    return common\n",
    "\n",
    "data = []\n",
    "with ZipFile(\"../data/data.zip\") as z:\n",
    "    for fname in z.namelist():\n",
    "        if not fname.endswith('.txt') or not fname.startswith('data'):\n",
    "            continue\n",
    "            \n",
    "        content = z.read(fname).decode('utf8')\n",
    "        content = clean_content(content)\n",
    "        uniques = find_uinque_words(content)\n",
    "        common = find_common_words(content)\n",
    "        \n",
    "        label, idx = fname[5:-4].split('-', 1)\n",
    "        data.append((idx,label,content, uniques, common))\n",
    "df_train = pd.DataFrame(data, columns=(\"id\", \"label\", \"content\", \"unique\", \"common\"))\n",
    "\n",
    "df_train.sample(20)\n",
    "\n",
    "\n"
   ]
  },
  {
   "cell_type": "code",
   "execution_count": null,
   "metadata": {},
   "outputs": [],
   "source": []
  },
  {
   "cell_type": "code",
   "execution_count": null,
   "metadata": {},
   "outputs": [],
   "source": []
  },
  {
   "cell_type": "code",
   "execution_count": 217,
   "metadata": {
    "scrolled": true
   },
   "outputs": [
    {
     "data": {
      "text/plain": [
       "array([['_', '1'],\n",
       "       ['__', '1'],\n",
       "       ['___', '1'],\n",
       "       ...,\n",
       "       ['ý', '1'],\n",
       "       ['þ', '1'],\n",
       "       ['⅔', '2']], dtype='<U87')"
      ]
     },
     "execution_count": 217,
     "metadata": {},
     "output_type": "execute_result"
    }
   ],
   "source": [
    "\n",
    "\n",
    "def vectorizer(arr):\n",
    "    n = 10\n",
    "    vectorizer = CountVectorizer()\n",
    "    X = vectorizer.fit_transform(arr)\n",
    "\n",
    "    vocabulary = vectorizer.get_feature_names()\n",
    "    ind  = np.argsort(X.toarray().sum(axis=0))[-n:]\n",
    "\n",
    "    top_n_words = [vocabulary[a] for a in ind]\n",
    "\n",
    "    print (top_n_words)\n",
    "    \n",
    "def vectoriszer1(arr):\n",
    "    return Counter(arr.flat).most_common(1)\n",
    "\n",
    "def vectoriszer2(arr):\n",
    "    unique, counts = np.unique(arr, return_counts=True)\n",
    "    return np.asarray((unique, counts)).T\n",
    "\n",
    "\n",
    "df_train_c = df_train.copy() \n",
    "df_train_c = df_train_c.drop(['content'], axis=1)\n",
    "# df_train_c = df_train_c.groupby('label')\n",
    "\n",
    "\n",
    "lables = df_train_c['label'].unique()\n",
    "\n",
    "df_empty = pd.DataFrame({'idx' : lables})\n",
    "df_empty\n",
    "\n",
    "some = df_train_c[df_train_c['label'] == 'bylaws']\n",
    "some\n",
    "\n",
    "col_bylaws_np = some['unique'].to_numpy()\n",
    "col_bylaws_np\n",
    "\n",
    "all_word = np.concatenate((col_bylaws_np), axis=None)\n",
    "all_word\n",
    "\n",
    "aaaaa = vectoriszer2(all_word)\n",
    "aaaaa\n",
    "#find_common_words(all_word)\n",
    "\n",
    "#len(all_word)\n",
    "##for u in df_train_c[df_train_c['label'] == 'bylaws']:\n",
    "#    print(u)\n",
    "    \n",
    "\n",
    "#3df = pd.DataFrame(data=d)\n",
    "#df_duplicated['Grouped'] = df_duplicated.groupby('Order ID')['Product'].transform(lambda x: ','.join(x))\n",
    "\n",
    "\n"
   ]
  },
  {
   "cell_type": "code",
   "execution_count": 172,
   "metadata": {},
   "outputs": [
    {
     "data": {
      "text/html": [
       "<div>\n",
       "<style scoped>\n",
       "    .dataframe tbody tr th:only-of-type {\n",
       "        vertical-align: middle;\n",
       "    }\n",
       "\n",
       "    .dataframe tbody tr th {\n",
       "        vertical-align: top;\n",
       "    }\n",
       "\n",
       "    .dataframe thead th {\n",
       "        text-align: right;\n",
       "    }\n",
       "</style>\n",
       "<table border=\"1\" class=\"dataframe\">\n",
       "  <thead>\n",
       "    <tr style=\"text-align: right;\">\n",
       "      <th></th>\n",
       "      <th>id</th>\n",
       "      <th>content</th>\n",
       "      <th>unique</th>\n",
       "      <th>common</th>\n",
       "    </tr>\n",
       "  </thead>\n",
       "  <tbody>\n",
       "    <tr>\n",
       "      <th>0</th>\n",
       "      <td>acldm</td>\n",
       "      <td>capital trust inc  long term incentive plan...</td>\n",
       "      <td>[capital, trust, inc, long, term, incentive, p...</td>\n",
       "      <td>[award, shares, company, agreement, plan, shal...</td>\n",
       "    </tr>\n",
       "    <tr>\n",
       "      <th>1</th>\n",
       "      <td>acxlg</td>\n",
       "      <td>of trustmark corporation as amended and resta...</td>\n",
       "      <td>[of, trustmark, corporation, as, amended, and,...</td>\n",
       "      <td>[shall, board, directors, may, corporation, me...</td>\n",
       "    </tr>\n",
       "    <tr>\n",
       "      <th>2</th>\n",
       "      <td>aehlr</td>\n",
       "      <td>herbalife ltd  stock incentive plan for emp...</td>\n",
       "      <td>[herbalife, ltd, stock, incentive, plan, for, ...</td>\n",
       "      <td>[optionee, option, company, plan, agreement, m...</td>\n",
       "    </tr>\n",
       "    <tr>\n",
       "      <th>3</th>\n",
       "      <td>aerlh</td>\n",
       "      <td>this stock option agreement the agreement i...</td>\n",
       "      <td>[this, stock, option, agreement, the, is, made...</td>\n",
       "      <td>[company, option, shares, participant, agreeme...</td>\n",
       "    </tr>\n",
       "    <tr>\n",
       "      <th>4</th>\n",
       "      <td>aisgb</td>\n",
       "      <td>employment agreement effective as of the da...</td>\n",
       "      <td>[employment, agreement, effective, as, of, the...</td>\n",
       "      <td>[executive, company, shall, agreement, section...</td>\n",
       "    </tr>\n",
       "    <tr>\n",
       "      <th>5</th>\n",
       "      <td>ajqbd</td>\n",
       "      <td>lender party a shandong longkong travel dev...</td>\n",
       "      <td>[lender, party, a, shandong, longkong, travel,...</td>\n",
       "      <td>[party, loan, b, shall, contract, article, rig...</td>\n",
       "    </tr>\n",
       "    <tr>\n",
       "      <th>6</th>\n",
       "      <td>akjmp</td>\n",
       "      <td>pepco holdings inc performance based  m thi...</td>\n",
       "      <td>[pepco, holdings, inc, performance, based, m, ...</td>\n",
       "      <td>[stock, participant, shall, award, section, co...</td>\n",
       "    </tr>\n",
       "    <tr>\n",
       "      <th>7</th>\n",
       "      <td>akpvz</td>\n",
       "      <td>this employment agreement agreement effecti...</td>\n",
       "      <td>[this, employment, agreement, effective, as, o...</td>\n",
       "      <td>[employee, agreement, company, shall, employme...</td>\n",
       "    </tr>\n",
       "    <tr>\n",
       "      <th>8</th>\n",
       "      <td>aktjz</td>\n",
       "      <td>the securities offered hereby have not been r...</td>\n",
       "      <td>[the, securities, offered, hereby, have, not, ...</td>\n",
       "      <td>[securities, company, optionee, options, act, ...</td>\n",
       "    </tr>\n",
       "    <tr>\n",
       "      <th>9</th>\n",
       "      <td>alcuh</td>\n",
       "      <td>hei    b hawaiian electric industries inc with...</td>\n",
       "      <td>[hei, b, hawaiian, electric, industries, inc, ...</td>\n",
       "      <td>[company, shall, option, section, shares, empl...</td>\n",
       "    </tr>\n",
       "  </tbody>\n",
       "</table>\n",
       "</div>"
      ],
      "text/plain": [
       "      id                                            content  \\\n",
       "0  acldm     capital trust inc  long term incentive plan...   \n",
       "1  acxlg   of trustmark corporation as amended and resta...   \n",
       "2  aehlr     herbalife ltd  stock incentive plan for emp...   \n",
       "3  aerlh     this stock option agreement the agreement i...   \n",
       "4  aisgb     employment agreement effective as of the da...   \n",
       "5  ajqbd     lender party a shandong longkong travel dev...   \n",
       "6  akjmp     pepco holdings inc performance based  m thi...   \n",
       "7  akpvz     this employment agreement agreement effecti...   \n",
       "8  aktjz   the securities offered hereby have not been r...   \n",
       "9  alcuh  hei    b hawaiian electric industries inc with...   \n",
       "\n",
       "                                              unique  \\\n",
       "0  [capital, trust, inc, long, term, incentive, p...   \n",
       "1  [of, trustmark, corporation, as, amended, and,...   \n",
       "2  [herbalife, ltd, stock, incentive, plan, for, ...   \n",
       "3  [this, stock, option, agreement, the, is, made...   \n",
       "4  [employment, agreement, effective, as, of, the...   \n",
       "5  [lender, party, a, shandong, longkong, travel,...   \n",
       "6  [pepco, holdings, inc, performance, based, m, ...   \n",
       "7  [this, employment, agreement, effective, as, o...   \n",
       "8  [the, securities, offered, hereby, have, not, ...   \n",
       "9  [hei, b, hawaiian, electric, industries, inc, ...   \n",
       "\n",
       "                                              common  \n",
       "0  [award, shares, company, agreement, plan, shal...  \n",
       "1  [shall, board, directors, may, corporation, me...  \n",
       "2  [optionee, option, company, plan, agreement, m...  \n",
       "3  [company, option, shares, participant, agreeme...  \n",
       "4  [executive, company, shall, agreement, section...  \n",
       "5  [party, loan, b, shall, contract, article, rig...  \n",
       "6  [stock, participant, shall, award, section, co...  \n",
       "7  [employee, agreement, company, shall, employme...  \n",
       "8  [securities, company, optionee, options, act, ...  \n",
       "9  [company, shall, option, section, shares, empl...  "
      ]
     },
     "execution_count": 172,
     "metadata": {},
     "output_type": "execute_result"
    }
   ],
   "source": [
    "data = []\n",
    "with ZipFile(\"../data/test_data.zip\") as z:\n",
    "    for fname in z.namelist():\n",
    "        content = z.read(fname).decode('utf8')\n",
    "\n",
    "        content = clean_content(content)\n",
    "        uniques = find_uinque_words(content)\n",
    "        common = find_common_words(content)\n",
    "\n",
    "        if not fname.endswith('.txt') or not fname.startswith('test'):\n",
    "            continue\n",
    "        idx = fname[5:-4]\n",
    "        data.append((idx,content,uniques,common))\n",
    "df_test = pd.DataFrame(data, columns=(\"id\", \"content\", \"unique\",\"common\"))\n",
    "\n",
    "\n",
    "df_test.head(10)"
   ]
  },
  {
   "cell_type": "code",
   "execution_count": 171,
   "metadata": {},
   "outputs": [
    {
     "data": {
      "text/plain": [
       "0      rsu\n",
       "2      rsu\n",
       "3      rsu\n",
       "4      rsu\n",
       "6      rsu\n",
       "      ... \n",
       "817    rsu\n",
       "818    rsu\n",
       "819    rsu\n",
       "820    rsu\n",
       "821    rsu\n",
       "Name: label, Length: 612, dtype: object"
      ]
     },
     "execution_count": 171,
     "metadata": {},
     "output_type": "execute_result"
    }
   ],
   "source": [
    "##Prepare DataFrame\n",
    "\n",
    "\n",
    "df_test.loc[df_test[\"content\"].str.contains(\"employment\"),\"label\"]"
   ]
  },
  {
   "cell_type": "markdown",
   "metadata": {},
   "source": [
    "# Plot distribution of labels"
   ]
  },
  {
   "cell_type": "code",
   "execution_count": 6,
   "metadata": {},
   "outputs": [
    {
     "data": {
      "text/plain": [
       "<AxesSubplot:>"
      ]
     },
     "execution_count": 6,
     "metadata": {},
     "output_type": "execute_result"
    },
    {
     "data": {
      "image/png": "[encoded data removed]",
      "text/plain": [
       "<Figure size 432x288 with 1 Axes>"
      ]
     },
     "metadata": {
      "needs_background": "light"
     },
     "output_type": "display_data"
    }
   ],
   "source": [
    "df_train[\"label\"].hist()"
   ]
  },
  {
   "cell_type": "markdown",
   "metadata": {},
   "source": [
    "# Submit\n",
    "## Sample submission 1: \"All RSU\""
   ]
  },
  {
   "cell_type": "code",
   "execution_count": 170,
   "metadata": {},
   "outputs": [
    {
     "ename": "AttributeError",
     "evalue": "'Series' object has no attribute 'contains'",
     "output_type": "error",
     "traceback": [
      "\u001b[1;31m---------------------------------------------------------------------------\u001b[0m",
      "\u001b[1;31mAttributeError\u001b[0m                            Traceback (most recent call last)",
      "\u001b[1;32m<ipython-input-170-ae1e2989d02e>\u001b[0m in \u001b[0;36m<module>\u001b[1;34m\u001b[0m\n\u001b[0;32m      1\u001b[0m \u001b[1;31m# for all documents\u001b[0m\u001b[1;33m\u001b[0m\u001b[1;33m\u001b[0m\u001b[1;33m\u001b[0m\u001b[0m\n\u001b[0;32m      2\u001b[0m \u001b[0mdf_test\u001b[0m\u001b[1;33m[\u001b[0m\u001b[1;34m\"label\"\u001b[0m\u001b[1;33m]\u001b[0m \u001b[1;33m=\u001b[0m \u001b[1;34m\"rsu\"\u001b[0m\u001b[1;33m\u001b[0m\u001b[1;33m\u001b[0m\u001b[0m\n\u001b[1;32m----> 3\u001b[1;33m \u001b[0mdf_test\u001b[0m\u001b[1;33m.\u001b[0m\u001b[0mloc\u001b[0m\u001b[1;33m[\u001b[0m\u001b[0mdf_test\u001b[0m\u001b[1;33m[\u001b[0m\u001b[1;34m\"unique\"\u001b[0m\u001b[1;33m]\u001b[0m\u001b[1;33m.\u001b[0m\u001b[0mcontains\u001b[0m\u001b[1;33m(\u001b[0m\u001b[1;34m\"employment\"\u001b[0m\u001b[1;33m)\u001b[0m\u001b[1;33m,\u001b[0m\u001b[1;34m\"label\"\u001b[0m\u001b[1;33m]\u001b[0m \u001b[1;33m=\u001b[0m \u001b[1;34m'employment'\u001b[0m\u001b[1;33m\u001b[0m\u001b[1;33m\u001b[0m\u001b[0m\n\u001b[0m\u001b[0;32m      4\u001b[0m \u001b[1;31m#df_test.loc[df_test[\"content\"].str.contains(\"employment\"),\"label\"] = 'employment'\u001b[0m\u001b[1;33m\u001b[0m\u001b[1;33m\u001b[0m\u001b[1;33m\u001b[0m\u001b[0m\n\u001b[0;32m      5\u001b[0m \u001b[1;31m#df_test.loc[df_test[\"content\"].str.contains(\"credit\"),\"label\"] = 'credit'\u001b[0m\u001b[1;33m\u001b[0m\u001b[1;33m\u001b[0m\u001b[1;33m\u001b[0m\u001b[0m\n",
      "\u001b[1;32m~\\anaconda3\\lib\\site-packages\\pandas\\core\\generic.py\u001b[0m in \u001b[0;36m__getattr__\u001b[1;34m(self, name)\u001b[0m\n\u001b[0;32m   5463\u001b[0m             \u001b[1;32mif\u001b[0m \u001b[0mself\u001b[0m\u001b[1;33m.\u001b[0m\u001b[0m_info_axis\u001b[0m\u001b[1;33m.\u001b[0m\u001b[0m_can_hold_identifiers_and_holds_name\u001b[0m\u001b[1;33m(\u001b[0m\u001b[0mname\u001b[0m\u001b[1;33m)\u001b[0m\u001b[1;33m:\u001b[0m\u001b[1;33m\u001b[0m\u001b[1;33m\u001b[0m\u001b[0m\n\u001b[0;32m   5464\u001b[0m                 \u001b[1;32mreturn\u001b[0m \u001b[0mself\u001b[0m\u001b[1;33m[\u001b[0m\u001b[0mname\u001b[0m\u001b[1;33m]\u001b[0m\u001b[1;33m\u001b[0m\u001b[1;33m\u001b[0m\u001b[0m\n\u001b[1;32m-> 5465\u001b[1;33m             \u001b[1;32mreturn\u001b[0m \u001b[0mobject\u001b[0m\u001b[1;33m.\u001b[0m\u001b[0m__getattribute__\u001b[0m\u001b[1;33m(\u001b[0m\u001b[0mself\u001b[0m\u001b[1;33m,\u001b[0m \u001b[0mname\u001b[0m\u001b[1;33m)\u001b[0m\u001b[1;33m\u001b[0m\u001b[1;33m\u001b[0m\u001b[0m\n\u001b[0m\u001b[0;32m   5466\u001b[0m \u001b[1;33m\u001b[0m\u001b[0m\n\u001b[0;32m   5467\u001b[0m     \u001b[1;32mdef\u001b[0m \u001b[0m__setattr__\u001b[0m\u001b[1;33m(\u001b[0m\u001b[0mself\u001b[0m\u001b[1;33m,\u001b[0m \u001b[0mname\u001b[0m\u001b[1;33m:\u001b[0m \u001b[0mstr\u001b[0m\u001b[1;33m,\u001b[0m \u001b[0mvalue\u001b[0m\u001b[1;33m)\u001b[0m \u001b[1;33m->\u001b[0m \u001b[1;32mNone\u001b[0m\u001b[1;33m:\u001b[0m\u001b[1;33m\u001b[0m\u001b[1;33m\u001b[0m\u001b[0m\n",
      "\u001b[1;31mAttributeError\u001b[0m: 'Series' object has no attribute 'contains'"
     ]
    }
   ],
   "source": [
    "# for all documents\n",
    "df_test[\"label\"] = \"rsu\"\n",
    "#df_test.loc[df_test[\"content\"].str.contains(\"employment\"),\"label\"] = 'employment'\n",
    "#df_test.loc[df_test[\"content\"].str.contains(\"credit\"),\"label\"] = 'credit'\n",
    "\n",
    "\n",
    "submission = dict(df_test[[\"id\",\"label\"]].values)\n",
    "\n",
    "#submission name must be unique\n",
    "submission_name = \"Avi_H_most_likely\"\n",
    "my_submit(submission_name, submission)\n"
   ]
  },
  {
   "cell_type": "code",
   "execution_count": 118,
   "metadata": {},
   "outputs": [
    {
     "name": "stdout",
     "output_type": "stream",
     "text": [
      "40\n"
     ]
    }
   ],
   "source": [
    "item = str(df_test.head(1)['content'])\n",
    "\n",
    "print(len(item))\n",
    "\n",
    "item = item.replace(\"\\xa0\", \" \")  \n",
    "item = item.replace(\"\\x0c\", \" \")\n",
    "\n"
   ]
  },
  {
   "cell_type": "code",
   "execution_count": 15,
   "metadata": {},
   "outputs": [
    {
     "name": "stdout",
     "output_type": "stream",
     "text": [
      "83\n",
      "0    Exhibit 10.4  CAPITAL TRUST, INC.  2007 LO... Name: content, dtype: object\n",
      "<FreqDist with 15 samples and 17 outcomes>\n",
      "[(',', 2), (':', 2), ('0', 1), ('Exhibit', 1), ('10.4', 1), ('CAPITAL', 1), ('TRUST', 1), ('INC.', 1), ('2007', 1), ('LO', 1), ('...', 1), ('Name', 1), ('content', 1), ('dtype', 1), ('object', 1)]\n"
     ]
    }
   ],
   "source": [
    "from nltk.tokenize import word_tokenize\n",
    "from nltk.probability import FreqDist\n",
    "\n",
    "item = df_test.head(1)\n",
    "\n",
    "print(len(str(item['content'])))\n",
    "\n",
    "\n",
    "\n",
    "con = str(item['content']).replace('\\n', \" \").replace('\\\\n',\" \")\n",
    "print(con)\n",
    "tokenized_word=word_tokenize(con)\n",
    "tokenized_word\n",
    "\n",
    "fdist = FreqDist(tokenized_word)\n",
    "print(fdist)\n",
    "\n",
    "print(fdist.most_common(50))\n"
   ]
  },
  {
   "cell_type": "code",
   "execution_count": 108,
   "metadata": {},
   "outputs": [
    {
     "name": "stdout",
     "output_type": "stream",
     "text": [
      "        id                                            content  \\\n",
      "0    acldm     capital trust inc  long term incentive plan...   \n",
      "1    acxlg   of trustmark corporation as amended and resta...   \n",
      "2    aehlr     herbalife ltd  stock incentive plan for emp...   \n",
      "3    aerlh     this stock option agreement the agreement i...   \n",
      "4    aisgb     employment agreement effective as of the da...   \n",
      "..     ...                                                ...   \n",
      "817  zvwqm     amp holding inc this nonstatutory stock opt...   \n",
      "818  zwnhd   amended and restated this amended and restate...   \n",
      "819  zwvfk     this agreement made and entered into as of ...   \n",
      "820  zxmpl    i of mccormick company incorporated amended ...   \n",
      "821  zyfno     employment agreement dated october   effect...   \n",
      "\n",
      "                                                unique  \\\n",
      "0    [capital, trust, inc, long, term, incentive, p...   \n",
      "1    [of, trustmark, corporation, as, amended, and,...   \n",
      "2    [herbalife, ltd, stock, incentive, plan, for, ...   \n",
      "3    [this, stock, option, agreement, the, is, made...   \n",
      "4    [employment, agreement, effective, as, of, the...   \n",
      "..                                                 ...   \n",
      "817  [amp, holding, inc, this, nonstatutory, stock,...   \n",
      "818  [amended, and, restated, this, employment, agr...   \n",
      "819  [this, agreement, made, and, entered, into, as...   \n",
      "820  [i, of, mccormick, company, incorporated, amen...   \n",
      "821  [employment, agreement, dated, october, effect...   \n",
      "\n",
      "                                                common label  \n",
      "0    [award, shares, company, agreement, plan, shal...   rsu  \n",
      "1    [shall, board, directors, may, corporation, me...   rsu  \n",
      "2    [optionee, option, company, plan, agreement, m...   rsu  \n",
      "3    [company, option, shares, participant, agreeme...   rsu  \n",
      "4    [executive, company, shall, agreement, section...   rsu  \n",
      "..                                                 ...   ...  \n",
      "817  [option, optionee, shall, shares, company, exe...   rsu  \n",
      "818  [company, officer, agreement, shall, may, part...   rsu  \n",
      "819  [executive, company, shall, agreement, employm...   rsu  \n",
      "820  [shall, board, directors, may, meeting, corpor...   rsu  \n",
      "821  [employee, company, shall, agreement, employme...   rsu  \n",
      "\n",
      "[822 rows x 5 columns]\n"
     ]
    },
    {
     "data": {
      "text/plain": [
       "0.46958637469586"
      ]
     },
     "execution_count": 108,
     "metadata": {},
     "output_type": "execute_result"
    }
   ],
   "source": [
    "# for all documents\n",
    "df_test[\"label\"] = \"rsu\"\n",
    "print(df_test)\n",
    "submission = dict(df_test[[\"id\",\"label\"]].values)\n",
    "#submission name must be unique\n",
    "submission_name = \"Avi_H_most_likely\"\n",
    "my_submit(submission_name, submission)"
   ]
  },
  {
   "cell_type": "markdown",
   "metadata": {},
   "source": [
    "## Sample submission 2: Submission by string search\n"
   ]
  },
  {
   "cell_type": "code",
   "execution_count": 115,
   "metadata": {},
   "outputs": [
    {
     "name": "stdout",
     "output_type": "stream",
     "text": [
      "[['acldm' 'employment']\n",
      " ['acxlg' 'bylaws']\n",
      " ['aehlr' 'employment']\n",
      " ...\n",
      " ['zwvfk' 'employment']\n",
      " ['zxmpl' 'employment']\n",
      " ['zyfno' 'employment']]\n"
     ]
    },
    {
     "data": {
      "text/plain": [
       "0.43187347931873"
      ]
     },
     "execution_count": 115,
     "metadata": {},
     "output_type": "execute_result"
    }
   ],
   "source": [
    "df_test[\"label\"] = \"rsu\"\n",
    "\n",
    "df_test.loc[df_test[\"content\"].str.contains(\"purchaser\"),\"label\"] = 'spa'\n",
    "df_test.loc[df_test[\"content\"].str.contains(\"credit\"),\"label\"] = 'credit'\n",
    "df_test.loc[df_test[\"content\"].str.contains(\"regsitrar\"),\"label\"] = 'rra'\n",
    "df_test.loc[df_test[\"content\"].str.contains(\"bylaws\"),\"label\"] = 'bylaws'\n",
    "df_test.loc[df_test[\"content\"].str.contains(\"stock\"),\"label\"] = 'bylaws'\n",
    "df_test.loc[df_test[\"content\"].str.contains(\"lender\"),\"label\"] = 'credit'\n",
    "df_test.loc[df_test[\"content\"].str.contains(\"borrower\"),\"label\"] = 'credit'\n",
    "df_test.loc[df_test[\"content\"].str.contains(\"employment\"),\"label\"] = 'employment'\n",
    "\n",
    "print(df_test[[\"id\",\"label\"]].values)\n",
    "\n",
    "submission = dict(df_test[[\"id\",\"label\"]].values)\n",
    "submission_name = \"Avi_H_string_search\"\n",
    "my_submit(submission_name, submission)"
   ]
  },
  {
   "cell_type": "markdown",
   "metadata": {},
   "source": [
    "# See how you rank\n",
    "Leaderboard is available at:\n",
    "https://goren.ml/uattcontract\n",
    "\n",
    "Accuracy of **90%** and above is required to pass the test\n",
    "\n",
    "## Leaderboard not refreshing ?\n",
    "try adding a random suffix to it, like this one:"
   ]
  },
  {
   "cell_type": "code",
   "execution_count": 102,
   "metadata": {},
   "outputs": [
    {
     "data": {
      "text/html": [
       "<a href=\"https://goren.ml/uattcontract/?ACVFJLt=CMQoHuw\" target=\"_blank\">Go to Leaderboard</a>"
      ],
      "text/plain": [
       "<IPython.core.display.HTML object>"
      ]
     },
     "execution_count": 102,
     "metadata": {},
     "output_type": "execute_result"
    }
   ],
   "source": [
    "import random, string\n",
    "from IPython.display import HTML\n",
    "rand_str = lambda: \"\".join(random.sample(string.ascii_letters,7))\n",
    "HTML('<a href=\"https://goren.ml/uattcontract/?{k}={v}\" target=\"_blank\">Go to Leaderboard</a>'.format(k=rand_str(),v=rand_str()))"
   ]
  },
  {
   "cell_type": "code",
   "execution_count": null,
   "metadata": {},
   "outputs": [],
   "source": []
  }
 ],
 "metadata": {
  "kernelspec": {
   "display_name": "Python 3",
   "language": "python",
   "name": "python3"
  },
  "language_info": {
   "codemirror_mode": {
    "name": "ipython",
    "version": 3
   },
   "file_extension": ".py",
   "mimetype": "text/x-python",
   "name": "python",
   "nbconvert_exporter": "python",
   "pygments_lexer": "ipython3",
   "version": "3.8.3"
  }
 },
 "nbformat": 4,
 "nbformat_minor": 4
}
