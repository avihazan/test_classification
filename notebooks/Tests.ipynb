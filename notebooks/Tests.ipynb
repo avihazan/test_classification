{
 "cells": [
  {
   "cell_type": "code",
   "execution_count": 8,
   "metadata": {},
   "outputs": [
    {
     "name": "stdout",
     "output_type": "stream",
     "text": [
      "6010\n"
     ]
    }
   ],
   "source": [
    "import re\n",
    "\n",
    "# import nltk\n",
    "# nltk.download('stopwords')\n",
    "# nltk.download('punkt')\n",
    "# from nltk.tokenize import sent_tokenize\n",
    "# from nltk.tokenize import word_tokenize\n",
    "# from nltk.probability import FreqDist\n",
    "# from nltk.corpus import stopwords\n",
    "\n",
    "def clean_content(txt):\n",
    "    txt = txt.lower()\n",
    "    txt = re.sub('\\W+',' ', str(txt) )\n",
    "    txt = ''.join(i for i in txt if not i.isdigit())\n",
    "    txt = txt.replace('exhibit',\"\")\n",
    "    return txt\n",
    "\n",
    "def find_uinque_words(txt):\n",
    "    words = txt.split()\n",
    "    print(len(words))\n",
    "    unique = []\n",
    "    for word in words:\n",
    "        if word not in unique:\n",
    "            unique.append(word)\n",
    "            \n",
    "    return unique \n",
    "\n",
    "# def find_common_words(txt):\n",
    "#     tokenized_word=word_tokenize(txt)\n",
    "#     stop_words=set(stopwords.words(\"english\"))\n",
    "\n",
    "#     filtered_sent=[]\n",
    "#     for w in tokenized_word:\n",
    "#         if w not in stop_words:\n",
    "#             filtered_sent.append(w)\n",
    "\n",
    "#     fdist = FreqDist(filtered_sent)\n",
    "#     fdist = fdist.most_common(20)\n",
    "    \n",
    "#     common=[]\n",
    "#     for item in fdist:\n",
    "#         common.append(item[0])\n",
    "    \n",
    "#     return common\n",
    "\n",
    "    \n",
    "    \n",
    "    \n",
    "\n",
    "content = open(\"../data/data/bylaws-39560.txt\",\"r\", encoding = \"utf8\").read()\n",
    "content = clean_content(content)\n",
    "uniques = find_uinque_words(content)\n",
    "#common = find_common_words(content)\n",
    "\n",
    "\n",
    "\n",
    "\n"
   ]
  },
  {
   "cell_type": "code",
   "execution_count": 18,
   "metadata": {},
   "outputs": [
    {
     "ename": "ModuleNotFoundError",
     "evalue": "No module named 'rake'",
     "output_type": "error",
     "traceback": [
      "\u001b[1;31m---------------------------------------------------------------------------\u001b[0m",
      "\u001b[1;31mModuleNotFoundError\u001b[0m                       Traceback (most recent call last)",
      "\u001b[1;32m<ipython-input-18-a33c91cbe621>\u001b[0m in \u001b[0;36m<module>\u001b[1;34m\u001b[0m\n\u001b[1;32m----> 1\u001b[1;33m \u001b[1;32mimport\u001b[0m \u001b[0mrake\u001b[0m\u001b[1;33m\u001b[0m\u001b[1;33m\u001b[0m\u001b[0m\n\u001b[0m\u001b[0;32m      2\u001b[0m \u001b[1;32mimport\u001b[0m \u001b[0moperator\u001b[0m\u001b[1;33m\u001b[0m\u001b[1;33m\u001b[0m\u001b[0m\n\u001b[0;32m      3\u001b[0m \u001b[1;33m\u001b[0m\u001b[0m\n\u001b[0;32m      4\u001b[0m \u001b[0mfilepath\u001b[0m \u001b[1;33m=\u001b[0m \u001b[1;34m\"keyword_extraction.txt\"\u001b[0m\u001b[1;33m\u001b[0m\u001b[1;33m\u001b[0m\u001b[0m\n\u001b[0;32m      5\u001b[0m \u001b[0mrake_object\u001b[0m \u001b[1;33m=\u001b[0m \u001b[0mrake\u001b[0m\u001b[1;33m.\u001b[0m\u001b[0mRake\u001b[0m\u001b[1;33m(\u001b[0m\u001b[0mfilepath\u001b[0m\u001b[1;33m)\u001b[0m\u001b[1;33m\u001b[0m\u001b[1;33m\u001b[0m\u001b[0m\n",
      "\u001b[1;31mModuleNotFoundError\u001b[0m: No module named 'rake'"
     ]
    }
   ],
   "source": [
    "import rake \n",
    "import operator\n",
    "\n",
    "filepath = \"keyword_extraction.txt\"\n",
    "rake_object = rake.Rake(filepath)\n",
    "text = \"Compatibility of systems of linear constraints over the set of natural numbers. Criteria of compatibility of a system of linear Diophantine equations, strict inequations, and nonstrict inequations are considered.Upper bounds for components of a minimal set of solutions and algorithms of construction of minimal generatingsets of solutions for all types of systems are given. These criteria and the corresponding algorithms for constructing a minimal supporting set of solutions can be used in solving all the considered types of systems and systems of mixed types.\"\n",
    "sample_file = open(\"../data/data/bylaws-39560.txt\", 'r')\n",
    "text = sample_file.read()\n",
    "keywords = rake_object.run(text) \n",
    "print(\"Keywords:\", keywords)"
   ]
  },
  {
   "cell_type": "code",
   "execution_count": null,
   "metadata": {},
   "outputs": [],
   "source": []
  }
 ],
 "metadata": {
  "kernelspec": {
   "display_name": "Python 3",
   "language": "python",
   "name": "python3"
  },
  "language_info": {
   "codemirror_mode": {
    "name": "ipython",
    "version": 3
   },
   "file_extension": ".py",
   "mimetype": "text/x-python",
   "name": "python",
   "nbconvert_exporter": "python",
   "pygments_lexer": "ipython3",
   "version": "3.8.3"
  }
 },
 "nbformat": 4,
 "nbformat_minor": 5
}
